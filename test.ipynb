{
 "cells": [
  {
   "cell_type": "code",
   "execution_count": 9,
   "metadata": {},
   "outputs": [],
   "source": [
    "from collections import namedtuple\n",
    "import altair as alt\n",
    "import math\n",
    "import pandas as pd\n",
    "import streamlit as st\n",
    "from transformers import BertModel, BertTokenizer\n",
    "from transformers import pipeline\n",
    "import requests\n",
    "from bs4 import BeautifulSoup\n",
    "import re\n",
    "from transformers import BartTokenizer, BartForConditionalGeneration\n",
    "import torch"
   ]
  },
  {
   "cell_type": "code",
   "execution_count": 20,
   "metadata": {},
   "outputs": [],
   "source": [
    "def summarize_text(url,model, tokenizer):\n",
    "    # facebook/bart-large-xsum\n",
    "    \n",
    "    # https://arxiv.org/abs/1910.13461\n",
    "    url = url\n",
    "    response = requests.get(url)\n",
    "    # Create a BeautifulSoup object to parse the HTML content\n",
    "    soup = BeautifulSoup(response.content, 'html.parser')\n",
    "    text = soup.text\n",
    "    #transformed_text = re.sub(r'[^ ]', r'\\\\', text)\n",
    "    max_length = 1024\n",
    "    truncated_input = text[:max_length]\n",
    "\n",
    "    print(truncated_input)\n",
    "    # Transform input tokens \n",
    "    inputs = tokenizer.encode(truncated_input, return_tensors=\"pt\")\n",
    "\n",
    "    # Generate summary\n",
    "    summary_ids = model.generate(inputs, num_beams=4, max_length=1024, early_stopping=True)\n",
    "\n",
    "    # Convert summary IDs to text\n",
    "    summary_text = tokenizer.decode(summary_ids.squeeze(), skip_special_tokens=True)\n",
    "\n",
    "    return summary_text"
   ]
  },
  {
   "cell_type": "code",
   "execution_count": 10,
   "metadata": {},
   "outputs": [],
   "source": [
    "model_name = \"facebook/bart-large-xsum\" \n",
    "# Download pytorch model\n",
    "tokenizer = BartTokenizer.from_pretrained(model_name)\n",
    "model = BartForConditionalGeneration.from_pretrained(model_name)"
   ]
  },
  {
   "cell_type": "code",
   "execution_count": 5,
   "metadata": {},
   "outputs": [],
   "source": [
    "url ='https://www.abc.net.au/news/2023-07-07/peter-dutton-david-littleproud-coalition-nuclear-reactors/102574782'"
   ]
  },
  {
   "cell_type": "code",
   "execution_count": 21,
   "metadata": {},
   "outputs": [
    {
     "name": "stdout",
     "output_type": "stream",
     "text": [
      "Peter Dutton opting for the nuclear option for Australia's energy future - ABC NewsSkip to main contentABC News HomepageSearchLoadingMore from ABCMore from ABCClose menuABCiviewListenABC HomeNewsLocallisteniviewEverydayMoreEditorial PoliciesRead our editorial guiding principlesAccessibilityHelpContact UsAbout the ABCPrivacy PolicyTerms of Use© 2023 ABCJust InWatch LiveVoice ReferendumPoliticsWorldBusinessAnalysisSportScienceHealthArtsFact CheckCoronavirusOtherNews HomeABC News HomepagePeter Dutton opting for the nuclear option for Australia's energy futureSharePeter Dutton opting for the nuclear option for Australia's energy futureBy political reporter Monte BovillPosted 9h ago9 hours agoFri 7 Jul 2023 at 3:29am Peter Dutton wants the government to consider nuclear power.(ABC News: Matt Roberts)Help keep family & friends informed by sharing this articleabc.net.au/news/peter-dutton-david-littleproud-coalition-nuclear-reactors/102574782Link copiedCopy linkShareOpposition Leader Peter Dutton is ramping up calls \n"
     ]
    }
   ],
   "source": [
    "summary = summarize_text(url,model,tokenizer)"
   ]
  },
  {
   "cell_type": "code",
   "execution_count": 23,
   "metadata": {},
   "outputs": [
    {
     "data": {
      "text/plain": [
       "\"Peter Dutton opting for the nuclear option for Australia's energy future - ABC News.\""
      ]
     },
     "execution_count": 23,
     "metadata": {},
     "output_type": "execute_result"
    }
   ],
   "source": [
    "summary"
   ]
  },
  {
   "cell_type": "code",
   "execution_count": null,
   "metadata": {},
   "outputs": [],
   "source": []
  }
 ],
 "metadata": {
  "kernelspec": {
   "display_name": "base",
   "language": "python",
   "name": "python3"
  },
  "language_info": {
   "codemirror_mode": {
    "name": "ipython",
    "version": 3
   },
   "file_extension": ".py",
   "mimetype": "text/x-python",
   "name": "python",
   "nbconvert_exporter": "python",
   "pygments_lexer": "ipython3",
   "version": "3.8.8"
  },
  "orig_nbformat": 4
 },
 "nbformat": 4,
 "nbformat_minor": 2
}
