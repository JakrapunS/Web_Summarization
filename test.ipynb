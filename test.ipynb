{
 "cells": [
  {
   "cell_type": "code",
   "execution_count": 1,
   "metadata": {},
   "outputs": [],
   "source": [
    "from collections import namedtuple\n",
    "import altair as alt\n",
    "import math\n",
    "import pandas as pd\n",
    "import streamlit as st\n",
    "from transformers import BertModel, BertTokenizer\n",
    "from transformers import pipeline\n",
    "import requests\n",
    "from bs4 import BeautifulSoup\n",
    "import re\n",
    "from transformers import BartTokenizer, BartForConditionalGeneration\n",
    "import torch"
   ]
  },
  {
   "cell_type": "code",
   "execution_count": 45,
   "metadata": {},
   "outputs": [],
   "source": [
    "def summarize_text(url,model, tokenizer):\n",
    "    # facebook/bart-large-xsum\n",
    "    \n",
    "    # https://arxiv.org/abs/1910.13461\n",
    "    url = url\n",
    "    response = requests.get(url)\n",
    "    # Create a BeautifulSoup object to parse the HTML content\n",
    "    soup = BeautifulSoup(response.content, 'html.parser')\n",
    "    text = soup.text\n",
    "    #transformed_text = re.sub(r'[^ ]', r'\\\\', text)\n",
    "    max_length = 1024\n",
    "\n",
    "    text_len = len(text)\n",
    "\n",
    "    n = round(text_len/max_length)\n",
    "    # Create text chunk\n",
    "    chunk=[]\n",
    "    for i in range(n):\n",
    "        start = (i*max_length)\n",
    "        end = (i+1)*max_length\n",
    "        if end > text_len:\n",
    "            end = text_len\n",
    "            \n",
    "        chunk.append(text[start:end])\n",
    "\n",
    "    #print(truncated_input)\n",
    "    # Transform input tokens \n",
    "\n",
    "    result_text = []\n",
    "    for text in chunk:\n",
    "        inputs = tokenizer.encode(text, return_tensors=\"pt\")\n",
    "\n",
    "        # Generate summary\n",
    "        summary_ids = model.generate(inputs, num_beams=4, max_length=1024, early_stopping=True)\n",
    "\n",
    "        # Convert summary IDs to text\n",
    "        summary_text = tokenizer.decode(summary_ids.squeeze(), skip_special_tokens=True)\n",
    "\n",
    "        result_text.append(summary_text)\n",
    "\n",
    "    concatenated_text = ''.join(result_text)\n",
    "\n",
    "    return concatenated_text"
   ]
  },
  {
   "cell_type": "code",
   "execution_count": 46,
   "metadata": {},
   "outputs": [],
   "source": [
    "model_name = \"facebook/bart-large-xsum\" \n",
    "# Download pytorch model\n",
    "tokenizer = BartTokenizer.from_pretrained(model_name)\n",
    "model = BartForConditionalGeneration.from_pretrained(model_name)"
   ]
  },
  {
   "cell_type": "code",
   "execution_count": 47,
   "metadata": {},
   "outputs": [],
   "source": [
    "url ='https://www.anywise.com.au/services'"
   ]
  },
  {
   "cell_type": "code",
   "execution_count": 48,
   "metadata": {},
   "outputs": [],
   "source": [
    "summary = summarize_text(url,model,tokenizer)"
   ]
  },
  {
   "cell_type": "code",
   "execution_count": null,
   "metadata": {},
   "outputs": [],
   "source": [
    "summary"
   ]
  },
  {
   "cell_type": "code",
   "execution_count": 5,
   "metadata": {},
   "outputs": [],
   "source": [
    "response = requests.get(url)\n",
    "# Create a BeautifulSoup object to parse the HTML content\n",
    "soup = BeautifulSoup(response.content, 'html.parser')\n",
    "text = soup.text"
   ]
  },
  {
   "cell_type": "code",
   "execution_count": 6,
   "metadata": {},
   "outputs": [],
   "source": [
    "transformed_text =  re.sub(r'\\s', ' ', text.strip())"
   ]
  },
  {
   "cell_type": "code",
   "execution_count": 38,
   "metadata": {},
   "outputs": [],
   "source": [
    "text_len = len(transformed_text)\n",
    "\n",
    "n = round(text_len/1024)\n",
    "\n",
    "chunk=[]\n",
    "for i in range(n):\n",
    "    start = (i*1024)\n",
    "    end = (i+1)*1024\n",
    "    chunk.append(transformed_text[start:end])\n",
    "  "
   ]
  },
  {
   "cell_type": "code",
   "execution_count": null,
   "metadata": {},
   "outputs": [],
   "source": []
  },
  {
   "cell_type": "code",
   "execution_count": 16,
   "metadata": {},
   "outputs": [
    {
     "data": {
      "text/plain": [
       "16"
      ]
     },
     "execution_count": 16,
     "metadata": {},
     "output_type": "execute_result"
    }
   ],
   "source": []
  },
  {
   "cell_type": "code",
   "execution_count": null,
   "metadata": {},
   "outputs": [],
   "source": []
  }
 ],
 "metadata": {
  "kernelspec": {
   "display_name": "base",
   "language": "python",
   "name": "python3"
  },
  "language_info": {
   "codemirror_mode": {
    "name": "ipython",
    "version": 3
   },
   "file_extension": ".py",
   "mimetype": "text/x-python",
   "name": "python",
   "nbconvert_exporter": "python",
   "pygments_lexer": "ipython3",
   "version": "3.8.8"
  },
  "orig_nbformat": 4
 },
 "nbformat": 4,
 "nbformat_minor": 2
}
